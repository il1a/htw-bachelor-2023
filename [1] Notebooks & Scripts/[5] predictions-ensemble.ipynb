{
 "cells": [
  {
   "cell_type": "markdown",
   "id": "faee678580531709",
   "metadata": {},
   "source": [
    "## Bachelor Thesis\n",
    "## \"Exploring the Efficacy of Diverse Classification Techniques In Detecting Disinformation In News.\"\n",
    "Ilia Sokolovskiy\n",
    "HTW SS23\n",
    "\n",
    "Notebook 5/5 - Model Ensemble + Final Predictions"
   ]
  },
  {
   "cell_type": "markdown",
   "id": "b9b1dd0a402d8df8",
   "metadata": {},
   "source": [
    "**Installing all necessary dependencies**"
   ]
  },
  {
   "cell_type": "code",
   "execution_count": null,
   "id": "1cf79976d29bcee5",
   "metadata": {
    "ExecuteTime": {
     "end_time": "2023-08-16T22:14:42.137715700Z",
     "start_time": "2023-08-16T22:14:42.124712700Z"
    }
   },
   "outputs": [],
   "source": [
    "%%capture\n",
    "!pip install spacy transformers peft"
   ]
  },
  {
   "cell_type": "markdown",
   "id": "8a16bb056b4c57ab",
   "metadata": {},
   "source": [
    "**Importing all necessary libraries**"
   ]
  },
  {
   "cell_type": "code",
   "execution_count": 1,
   "id": "6221e08112391f9d",
   "metadata": {
    "ExecuteTime": {
     "end_time": "2023-08-19T09:51:26.116328500Z",
     "start_time": "2023-08-19T09:51:21.355435Z"
    }
   },
   "outputs": [],
   "source": [
    "import os\n",
    "import spacy\n",
    "\n",
    "import pandas as pd\n",
    "import numpy as np\n",
    "import torch\n",
    "from torch.nn.functional import softmax\n",
    "\n",
    "\n",
    "from transformers import (\n",
    "    AutoModelForSequenceClassification,\n",
    "    BertTokenizerFast\n",
    ")\n",
    "from peft import (\n",
    "    PeftModel,\n",
    "    PeftConfig\n",
    ")\n",
    "\n",
    "from utils import NewsClassifier"
   ]
  },
  {
   "cell_type": "markdown",
   "id": "cd572959c65c4786",
   "metadata": {},
   "source": [
    "### Load the data and form and define the num_labels, id2label and label2id for BERT"
   ]
  },
  {
   "cell_type": "code",
   "execution_count": 2,
   "id": "37c55995a52c2398",
   "metadata": {
    "ExecuteTime": {
     "end_time": "2023-08-19T09:51:30.515122900Z",
     "start_time": "2023-08-19T09:51:29.339128400Z"
    }
   },
   "outputs": [],
   "source": [
    "# Load the pickle with the df\n",
    "base_dir = \"Data\"\n",
    "pickle_folder = \"Pickles\"\n",
    "filename_pickle = \"pickle_lg_df_2.pkl\"\n",
    "\n",
    "full_path_pickle = os.path.join(base_dir, pickle_folder, filename_pickle)\n",
    "\n",
    "df = pd.read_pickle(full_path_pickle)"
   ]
  },
  {
   "cell_type": "code",
   "execution_count": 3,
   "id": "5f085dada3f7f086",
   "metadata": {
    "ExecuteTime": {
     "end_time": "2023-08-19T09:51:38.972235500Z",
     "start_time": "2023-08-19T09:51:38.956432100Z"
    }
   },
   "outputs": [
    {
     "name": "stdout",
     "output_type": "stream",
     "text": [
      "num_labels: 2\n",
      "id2label: {0: 'FAKE', 1: 'TRUE'}\n",
      "label2id: {'FAKE': 0, 'TRUE': 1}\n"
     ]
    }
   ],
   "source": [
    "labels = df['label'].unique().tolist()\n",
    "labels = [s.strip() for s in labels ]\n",
    "\n",
    "num_labels= len(labels)\n",
    "id2label={id:label for id,label in enumerate(labels)}\n",
    "label2id={label:id for id,label in enumerate(labels)}\n",
    "\n",
    "print(f\"num_labels: {num_labels}\")\n",
    "print(f\"id2label: {id2label}\")\n",
    "print(f\"label2id: {label2id}\")"
   ]
  },
  {
   "cell_type": "markdown",
   "id": "de921df5c30a6781",
   "metadata": {},
   "source": [
    "### Loading three models - SVM (97.1% Accuracy), Bi-LSTM (97.35% Accuracy), BERT (99.4% Accuracy)"
   ]
  },
  {
   "cell_type": "code",
   "execution_count": 51,
   "id": "d7491810f6ff6c44",
   "metadata": {
    "ExecuteTime": {
     "end_time": "2023-08-19T08:01:40.943850100Z",
     "start_time": "2023-08-19T08:01:40.923176100Z"
    }
   },
   "outputs": [],
   "source": [
    "# Setting path parameters\n",
    "base_dir = \"Models\"\n",
    "\n",
    "svm_dir = \"Pickles\"\n",
    "svm_model_pickle = \"best_sklearn_model_3.pkl\"\n",
    "svm_scaler_pickle = \"best_sklearn_model_scaler_3.pkl\"\n",
    "svm_path_model = os.path.join(base_dir, svm_dir, svm_model_pickle)\n",
    "svm_path_scaler = os.path.join(base_dir, svm_dir, svm_scaler_pickle)\n",
    "\n",
    "bi_lstm_dir = \"Torches\"\n",
    "bi_lstm_weights_file = \"bi_lstm_weights_1.pth\"\n",
    "bi_lstm_path_weights = os.path.join(base_dir, bi_lstm_dir, bi_lstm_weights_file)\n",
    "\n",
    "peft_model_id = \"il1a/BERT_Fake_News_Classification_LoRA_v2\""
   ]
  },
  {
   "cell_type": "markdown",
   "id": "d6a7d0dfb4446b7e",
   "metadata": {},
   "source": [
    "**Loading SVM**"
   ]
  },
  {
   "cell_type": "code",
   "execution_count": 52,
   "id": "74b318605b3f55fd",
   "metadata": {
    "ExecuteTime": {
     "end_time": "2023-08-19T08:01:43.070646Z",
     "start_time": "2023-08-19T08:01:43.057998500Z"
    }
   },
   "outputs": [],
   "source": [
    "svm = pd.read_pickle(svm_path_model)\n",
    "svm_scaler = pd.read_pickle(svm_path_scaler)"
   ]
  },
  {
   "cell_type": "markdown",
   "id": "30b6ce8e055d237b",
   "metadata": {},
   "source": [
    "**Loading Bi-LSTM**"
   ]
  },
  {
   "cell_type": "code",
   "execution_count": 53,
   "id": "2f2f41bd96626673",
   "metadata": {
    "ExecuteTime": {
     "end_time": "2023-08-19T08:01:50.385750400Z",
     "start_time": "2023-08-19T08:01:50.368601300Z"
    }
   },
   "outputs": [
    {
     "data": {
      "text/plain": "NewsClassifier(\n  (lstm): LSTM(300, 50, batch_first=True, bidirectional=True)\n  (fc): Linear(in_features=100, out_features=1, bias=True)\n  (sigmoid): Sigmoid()\n)"
     },
     "execution_count": 53,
     "metadata": {},
     "output_type": "execute_result"
    }
   ],
   "source": [
    "bi_lstm = NewsClassifier()\n",
    "bi_lstm.load_state_dict(torch.load(bi_lstm_path_weights))\n",
    "bi_lstm.eval()"
   ]
  },
  {
   "cell_type": "markdown",
   "id": "ffef4f3c841bf588",
   "metadata": {},
   "source": [
    "**Loading BERT Adapter from HuggingFace 🤗**"
   ]
  },
  {
   "cell_type": "code",
   "execution_count": 54,
   "id": "b3430a4540bf2309",
   "metadata": {
    "ExecuteTime": {
     "end_time": "2023-08-19T08:01:54.167161300Z",
     "start_time": "2023-08-19T08:01:52.268931200Z"
    }
   },
   "outputs": [
    {
     "name": "stderr",
     "output_type": "stream",
     "text": [
      "Some weights of the model checkpoint at bert-base-uncased were not used when initializing BertForSequenceClassification: ['cls.predictions.transform.LayerNorm.weight', 'cls.predictions.bias', 'cls.predictions.transform.LayerNorm.bias', 'cls.seq_relationship.bias', 'cls.seq_relationship.weight', 'cls.predictions.transform.dense.bias', 'cls.predictions.transform.dense.weight']\n",
      "- This IS expected if you are initializing BertForSequenceClassification from the checkpoint of a model trained on another task or with another architecture (e.g. initializing a BertForSequenceClassification model from a BertForPreTraining model).\n",
      "- This IS NOT expected if you are initializing BertForSequenceClassification from the checkpoint of a model that you expect to be exactly identical (initializing a BertForSequenceClassification model from a BertForSequenceClassification model).\n",
      "Some weights of BertForSequenceClassification were not initialized from the model checkpoint at bert-base-uncased and are newly initialized: ['classifier.weight', 'classifier.bias']\n",
      "You should probably TRAIN this model on a down-stream task to be able to use it for predictions and inference.\n"
     ]
    }
   ],
   "source": [
    "peft_config = PeftConfig.from_pretrained(peft_model_id)\n",
    "bert_inference = AutoModelForSequenceClassification.from_pretrained(\n",
    "    peft_config.base_model_name_or_path, num_labels=num_labels, id2label=id2label, label2id=label2id\n",
    ")\n",
    "bert_tokenizer = BertTokenizerFast.from_pretrained(peft_config.base_model_name_or_path)\n",
    "bert = PeftModel.from_pretrained(bert_inference, peft_model_id)"
   ]
  },
  {
   "cell_type": "code",
   "execution_count": 55,
   "outputs": [],
   "source": [
    "# Moving BERT to the GPU, if possible\n",
    "bert = bert.to(torch.device('cuda' if torch.cuda.is_available() else 'cpu'))"
   ],
   "metadata": {
    "collapsed": false,
    "ExecuteTime": {
     "end_time": "2023-08-19T08:01:56.665077100Z",
     "start_time": "2023-08-19T08:01:56.577364500Z"
    }
   },
   "id": "b876398e7b2c27b4"
  },
  {
   "cell_type": "code",
   "execution_count": 56,
   "outputs": [],
   "source": [
    "# Loading the same old spaCy model with disabled pipeline components\n",
    "nlp = spacy.load('en_core_web_lg', disable=['textcat', 'parser', 'custom'])\n",
    "\n",
    "# Vectorization function\n",
    "def vectorize_texts(texts):\n",
    "    return np.array([nlp(text).vector for text in texts])"
   ],
   "metadata": {
    "collapsed": false,
    "ExecuteTime": {
     "end_time": "2023-08-19T08:01:59.163356900Z",
     "start_time": "2023-08-19T08:01:58.139176Z"
    }
   },
   "id": "87a311dcf287c088"
  },
  {
   "cell_type": "code",
   "execution_count": 57,
   "outputs": [],
   "source": [
    "# Initialising weights for weighted ensemble (defines 'authority' of each model)\n",
    "weights = {\n",
    "    \"svm\": 0.3306,\n",
    "    \"bi_lstm\": 0.3314,\n",
    "    \"bert\": 0.3380\n",
    "}\n",
    "\n",
    "# Probability function for SVM\n",
    "def svm_probabilities(texts, svm_model, scaler):\n",
    "    vectors = vectorize_texts(texts)\n",
    "    scaled_vectors = scaler.transform(vectors)\n",
    "    return svm_model.predict_proba(scaled_vectors)[:, 1]\n",
    "\n",
    "# Probability function for Bi-LSTM\n",
    "def bi_lstm_probabilities(texts, model):\n",
    "    vectors = vectorize_texts(texts)\n",
    "    device = torch.device('cuda' if torch.cuda.is_available() else 'cpu')\n",
    "    model.to(device)\n",
    "    vectors_tensor = torch.tensor(vectors).float().to(device)\n",
    "    vectors_tensor = vectors_tensor.unsqueeze(1)\n",
    "    with torch.no_grad():\n",
    "        probabilities = model(vectors_tensor).squeeze()\n",
    "    return probabilities.cpu().numpy()\n",
    "\n",
    "# Probability function for BERT\n",
    "def bert_probabilities(texts, model, tokenizer, max_length=512):\n",
    "    inputs = tokenizer(texts, return_tensors='pt', max_length=max_length, truncation=True, padding=True).to(torch.device('cuda' if torch.cuda.is_available() else 'cpu'))\n",
    "    with torch.no_grad():\n",
    "        outputs = model(**inputs)\n",
    "        probabilities = softmax(outputs.logits, dim=1)[:, 1]\n",
    "    return probabilities.cpu().numpy()\n",
    "\n",
    "# Probability function for the weighted model ensemble\n",
    "def ensemble_predict_with_probabilities(texts):\n",
    "    # Get individual model probabilities and predictions\n",
    "    svm_probs = svm_probabilities(texts, svm, svm_scaler)\n",
    "    bi_lstm_probs = bi_lstm_probabilities(texts, bi_lstm)\n",
    "    bert_probs = bert_probabilities(texts, bert, bert_tokenizer)\n",
    "\n",
    "    # Calculate ensemble prediction using weights\n",
    "    ensemble_probs = (svm_probs * weights['svm'] + bi_lstm_probs * weights['bi_lstm'] + bert_probs * weights['bert']) / sum(weights.values())\n",
    "    ensemble_preds = [1 if prob > 0.5 else 0 for prob in ensemble_probs]\n",
    "\n",
    "    results = {\n",
    "        'svm_probs': svm_probs,\n",
    "        'bi_lstm_probs': bi_lstm_probs,\n",
    "        'bert_probs': bert_probs,\n",
    "        'ensemble_probs': ensemble_probs,\n",
    "        'ensemble_preds': ensemble_preds\n",
    "    }\n",
    "\n",
    "    return results"
   ],
   "metadata": {
    "collapsed": false,
    "ExecuteTime": {
     "end_time": "2023-08-19T08:02:01.257497Z",
     "start_time": "2023-08-19T08:02:01.245990300Z"
    }
   },
   "id": "4eee707ec77981"
  },
  {
   "cell_type": "code",
   "execution_count": 58,
   "outputs": [],
   "source": [
    "# Function for final result formatting\n",
    "def interpret_results(results, test_texts):\n",
    "    interpretations = []\n",
    "    for i, text in enumerate(test_texts):\n",
    "        interpretation = {\n",
    "            \"Text\": text,\n",
    "            \"SVM Probability (%)\": round(results['svm_probs'][i] * 100, 2),\n",
    "            \"Bi-LSTM Probability (%)\": round(results['bi_lstm_probs'][i] * 100, 2),\n",
    "            \"BERT Probability (%)\": round(results['bert_probs'][i] * 100, 2),\n",
    "            \"Ensemble Probability (%)\": round(results['ensemble_probs'][i] * 100, 2),\n",
    "            \"Ensemble Prediction\": \"True\" if results['ensemble_preds'][i] == 1 else \"Fake\"\n",
    "        }\n",
    "        interpretations.append(interpretation)\n",
    "    return interpretations"
   ],
   "metadata": {
    "collapsed": false,
    "ExecuteTime": {
     "end_time": "2023-08-19T08:02:04.749086800Z",
     "start_time": "2023-08-19T08:02:04.724446700Z"
    }
   },
   "id": "622e4078fb0fdde7"
  },
  {
   "cell_type": "code",
   "execution_count": 59,
   "outputs": [],
   "source": [
    "# Some fresh sample texts from the web FAKE-FAKE-FAKE-TRUE-TRUE-TRUE\n",
    "test_texts = [\"Al-Harir base in Erbil, Iraq is overcrowded after the arrival of a new batch of troops from the US\", \"Excessive use of earphones or earbuds can lead to deafness, ear infection and pain and stress, but the claim that it causes facial paralysis is false.\", \"Sea level rise over the last 20,000 years shows climate change is a 'scam'\", \"The total number of Ukrainian and Russian troops killed or wounded since the war in Ukraine began 18 months ago is nearing 500,000, U.S. officials said, a staggering toll as Russia assaults its next-door neighbor and tries to seize more territory.\", \"President Biden welcomed his counterparts from Japan and South Korea to Camp David on Friday morning as he seeks to cement a newly fortified three-way alliance, bridging generations of friction between the two Asian powers to forge mutual security arrangements in the face of an increasingly assertive China.\", \"U.S. officials say Chinese and Russian spy agencies are trying to steal technology from private American space companies and preparing cyberattacks that could disable satellites in a conflict.\"]"
   ],
   "metadata": {
    "collapsed": false,
    "ExecuteTime": {
     "end_time": "2023-08-19T08:02:07.732801900Z",
     "start_time": "2023-08-19T08:02:07.701476100Z"
    }
   },
   "id": "11daecb9408a1ace"
  },
  {
   "cell_type": "code",
   "execution_count": 60,
   "outputs": [
    {
     "name": "stdout",
     "output_type": "stream",
     "text": [
      "Text: Al-Harir base in Erbil, Iraq is overcrowded after the arrival of a new batch of troops from the US\n",
      "SVM Probability (%): 8.04\n",
      "Bi-LSTM Probability (%): 0.02\n",
      "BERT Probability (%): 3.27\n",
      "Ensemble Probability (%): 3.77\n",
      "Ensemble Prediction: Fake\n",
      "\n",
      "\n",
      "Text: Excessive use of earphones or earbuds can lead to deafness, ear infection and pain and stress, but the claim that it causes facial paralysis is false.\n",
      "SVM Probability (%): 4.89\n",
      "Bi-LSTM Probability (%): 2.2\n",
      "BERT Probability (%): 0.39\n",
      "Ensemble Probability (%): 2.47\n",
      "Ensemble Prediction: Fake\n",
      "\n",
      "\n",
      "Text: Sea level rise over the last 20,000 years shows climate change is a 'scam'\n",
      "SVM Probability (%): 9.47\n",
      "Bi-LSTM Probability (%): 0.1\n",
      "BERT Probability (%): 0.41\n",
      "Ensemble Probability (%): 3.3\n",
      "Ensemble Prediction: Fake\n",
      "\n",
      "\n",
      "Text: The total number of Ukrainian and Russian troops killed or wounded since the war in Ukraine began 18 months ago is nearing 500,000, U.S. officials said, a staggering toll as Russia assaults its next-door neighbor and tries to seize more territory.\n",
      "SVM Probability (%): 47.53\n",
      "Bi-LSTM Probability (%): 6.24\n",
      "BERT Probability (%): 99.41\n",
      "Ensemble Probability (%): 51.38\n",
      "Ensemble Prediction: True\n",
      "\n",
      "\n",
      "Text: President Biden welcomed his counterparts from Japan and South Korea to Camp David on Friday morning as he seeks to cement a newly fortified three-way alliance, bridging generations of friction between the two Asian powers to forge mutual security arrangements in the face of an increasingly assertive China.\n",
      "SVM Probability (%): 93.17\n",
      "Bi-LSTM Probability (%): 99.37\n",
      "BERT Probability (%): 99.98\n",
      "Ensemble Probability (%): 97.52\n",
      "Ensemble Prediction: True\n",
      "\n",
      "\n",
      "Text: U.S. officials say Chinese and Russian spy agencies are trying to steal technology from private American space companies and preparing cyberattacks that could disable satellites in a conflict.\n",
      "SVM Probability (%): 55.83\n",
      "Bi-LSTM Probability (%): 0.91\n",
      "BERT Probability (%): 1.79\n",
      "Ensemble Probability (%): 19.36\n",
      "Ensemble Prediction: Fake\n"
     ]
    }
   ],
   "source": [
    "# Ensemble with fine-tuned SVM [97.1%]\n",
    "results = ensemble_predict_with_probabilities(test_texts)\n",
    "interpretations = interpret_results(results, test_texts)\n",
    "\n",
    "for interpretation in interpretations:\n",
    "    for key, value in interpretation.items():\n",
    "        print(f\"{key}: {value}\")\n",
    "    print(\"\\n\")"
   ],
   "metadata": {
    "collapsed": false,
    "ExecuteTime": {
     "end_time": "2023-08-19T08:03:01.877013700Z",
     "start_time": "2023-08-19T08:03:01.748590600Z"
    }
   },
   "id": "1d3e3af634f9eb6a"
  },
  {
   "cell_type": "code",
   "execution_count": 41,
   "outputs": [
    {
     "name": "stdout",
     "output_type": "stream",
     "text": [
      "Text: Al-Harir base in Erbil, Iraq is overcrowded after the arrival of a new batch of troops from the US\n",
      "SVM Probability (%): 7.59\n",
      "Bi-LSTM Probability (%): 0.02\n",
      "BERT Probability (%): 3.27\n",
      "Ensemble Probability (%): 3.61\n",
      "Ensemble Prediction: Fake\n",
      "\n",
      "\n",
      "Text: Excessive use of earphones or earbuds can lead to deafness, ear infection and pain and stress, but the claim that it causes facial paralysis is false.\n",
      "SVM Probability (%): 3.43\n",
      "Bi-LSTM Probability (%): 2.2\n",
      "BERT Probability (%): 0.39\n",
      "Ensemble Probability (%): 1.99\n",
      "Ensemble Prediction: Fake\n",
      "\n",
      "\n",
      "Text: Sea level rise over the last 20,000 years shows climate change is a 'scam'\n",
      "SVM Probability (%): 6.91\n",
      "Bi-LSTM Probability (%): 0.1\n",
      "BERT Probability (%): 0.41\n",
      "Ensemble Probability (%): 2.44\n",
      "Ensemble Prediction: Fake\n",
      "\n",
      "\n",
      "Text: The total number of Ukrainian and Russian troops killed or wounded since the war in Ukraine began 18 months ago is nearing 500,000, U.S. officials said, a staggering toll as Russia assaults its next-door neighbor and tries to seize more territory.\n",
      "SVM Probability (%): 65.48\n",
      "Bi-LSTM Probability (%): 6.24\n",
      "BERT Probability (%): 99.41\n",
      "Ensemble Probability (%): 57.31\n",
      "Ensemble Prediction: True\n",
      "\n",
      "\n",
      "Text: President Biden welcomed his counterparts from Japan and South Korea to Camp David on Friday morning as he seeks to cement a newly fortified three-way alliance, bridging generations of friction between the two Asian powers to forge mutual security arrangements in the face of an increasingly assertive China.\n",
      "SVM Probability (%): 92.85\n",
      "Bi-LSTM Probability (%): 99.37\n",
      "BERT Probability (%): 99.98\n",
      "Ensemble Probability (%): 97.43\n",
      "Ensemble Prediction: True\n",
      "\n",
      "\n",
      "Text: U.S. officials say Chinese and Russian spy agencies are trying to steal technology from private American space companies and preparing cyberattacks that could disable satellites in a conflict.\n",
      "SVM Probability (%): 12.88\n",
      "Bi-LSTM Probability (%): 0.91\n",
      "BERT Probability (%): 1.79\n",
      "Ensemble Probability (%): 5.15\n",
      "Ensemble Prediction: Fake\n"
     ]
    }
   ],
   "source": [
    "# Ensemble with standard SVM (default parameters) [96.4%]\n",
    "# Ensemble weights adjusted accordingly --> {\"svm\": 0.329, \"bi_lstm\": 0.332, \"bert\": 0.339}\n",
    "results = ensemble_predict_with_probabilities(test_texts)\n",
    "interpretations = interpret_results(results, test_texts)\n",
    "\n",
    "for interpretation in interpretations:\n",
    "    for key, value in interpretation.items():\n",
    "        print(f\"{key}: {value}\")\n",
    "    print(\"\\n\")"
   ],
   "metadata": {
    "collapsed": false,
    "ExecuteTime": {
     "start_time": "2023-08-19T07:58:28.783762500Z"
    }
   },
   "id": "c0daf12ca706cd5"
  }
 ],
 "metadata": {
  "kernelspec": {
   "display_name": "Python 3 (ipykernel)",
   "language": "python",
   "name": "python3"
  },
  "language_info": {
   "codemirror_mode": {
    "name": "ipython",
    "version": 3
   },
   "file_extension": ".py",
   "mimetype": "text/x-python",
   "name": "python",
   "nbconvert_exporter": "python",
   "pygments_lexer": "ipython3",
   "version": "3.10.12"
  }
 },
 "nbformat": 4,
 "nbformat_minor": 5
}
