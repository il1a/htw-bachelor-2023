{
 "cells": [
  {
   "cell_type": "markdown",
   "id": "faee678580531709",
   "metadata": {},
   "source": [
    "## Bachelor Thesis\n",
    "## \"Exploring Various Classification Techniques In Detection of Disinformation.\"\n",
    "Ilia Sokolovskiy\n",
    "HTW SS23\n",
    "\n",
    "Notebook 5/5 - Model Ensemble + Final Predictions"
   ]
  },
  {
   "cell_type": "markdown",
   "id": "b9b1dd0a402d8df8",
   "metadata": {},
   "source": [
    "**Installing all necessary dependencies**"
   ]
  },
  {
   "cell_type": "code",
   "execution_count": null,
   "id": "1cf79976d29bcee5",
   "metadata": {},
   "outputs": [],
   "source": []
  },
  {
   "cell_type": "markdown",
   "id": "8a16bb056b4c57ab",
   "metadata": {},
   "source": [
    "**Importing all necessary libraries**"
   ]
  },
  {
   "cell_type": "code",
   "execution_count": 14,
   "id": "6221e08112391f9d",
   "metadata": {
    "ExecuteTime": {
     "end_time": "2023-08-16T18:37:55.019056800Z",
     "start_time": "2023-08-16T18:37:55.003369400Z"
    }
   },
   "outputs": [],
   "source": [
    "import os\n",
    "import pickle\n",
    "\n",
    "import pandas as pd\n",
    "import numpy as np\n",
    "import matplotlib.pyplot as plt\n",
    "import torch\n",
    "\n",
    "from transformers import (\n",
    "    AutoModelForTokenClassification,\n",
    "    AutoModelForSequenceClassification,\n",
    "    AutoTokenizer,\n",
    "    BertTokenizerFast,\n",
    "    TrainingArguments,\n",
    "    Trainer,\n",
    "    BertForSequenceClassification,\n",
    ")\n",
    "from peft import (\n",
    "    get_peft_config,\n",
    "    PeftModel,\n",
    "    PeftConfig,\n",
    "    get_peft_model,\n",
    "    LoraConfig,\n",
    "    TaskType,\n",
    ")\n",
    "\n",
    "from torch.utils.data import DataLoader, TensorDataset\n",
    "from torch.optim import AdamW\n",
    "from torch.utils.data import Dataset\n",
    "from tqdm.notebook import tqdm\n",
    "from sklearn.metrics import accuracy_score, precision_recall_fscore_support\n",
    "from sklearn.model_selection import train_test_split\n",
    "\n",
    "from utils import NewsClassifier"
   ]
  },
  {
   "cell_type": "markdown",
   "id": "cd572959c65c4786",
   "metadata": {},
   "source": [
    "### Load the data and form and define the num_labels, id2label and label2id for BERT"
   ]
  },
  {
   "cell_type": "code",
   "execution_count": 15,
   "id": "37c55995a52c2398",
   "metadata": {
    "ExecuteTime": {
     "end_time": "2023-08-16T18:37:57.483372700Z",
     "start_time": "2023-08-16T18:37:56.660535800Z"
    }
   },
   "outputs": [],
   "source": [
    "# Load the pickle with the df\n",
    "base_dir = \"Data\"\n",
    "pickle_folder = \"Pickles\"\n",
    "filename_pickle = \"pickle_lg_df_2\"\n",
    "\n",
    "full_path_pickle = os.path.join(base_dir, pickle_folder, filename_pickle)\n",
    "\n",
    "df = pd.read_pickle(full_path_pickle)"
   ]
  },
  {
   "cell_type": "code",
   "execution_count": 16,
   "id": "5f085dada3f7f086",
   "metadata": {
    "ExecuteTime": {
     "end_time": "2023-08-16T18:37:58.801953900Z",
     "start_time": "2023-08-16T18:37:58.782145100Z"
    }
   },
   "outputs": [
    {
     "name": "stdout",
     "output_type": "stream",
     "text": [
      "num_labels: 2\n",
      "id2label: {0: 'FAKE', 1: 'TRUE'}\n",
      "label2id: {'FAKE': 0, 'TRUE': 1}\n"
     ]
    }
   ],
   "source": [
    "labels = df['label'].unique().tolist()\n",
    "labels = [s.strip() for s in labels ]\n",
    "\n",
    "num_labels= len(labels)\n",
    "id2label={id:label for id,label in enumerate(labels)}\n",
    "label2id={label:id for id,label in enumerate(labels)}\n",
    "\n",
    "print(f\"num_labels: {num_labels}\")\n",
    "print(f\"id2label: {id2label}\")\n",
    "print(f\"label2id: {label2id}\")"
   ]
  },
  {
   "cell_type": "markdown",
   "id": "de921df5c30a6781",
   "metadata": {},
   "source": [
    "### Loading three models - SVM (96.4% Accuracy), Bi-LSTM (97.35% Accuracy), BERT (99.1% Accuracy)"
   ]
  },
  {
   "cell_type": "code",
   "execution_count": 17,
   "id": "d7491810f6ff6c44",
   "metadata": {
    "ExecuteTime": {
     "end_time": "2023-08-16T18:38:07.755361900Z",
     "start_time": "2023-08-16T18:38:07.747350300Z"
    }
   },
   "outputs": [],
   "source": [
    "# Setting path parameters\n",
    "base_dir = \"Models\"\n",
    "\n",
    "svm_dir = \"Pickles\"\n",
    "svm_model_pickle = \"best_sklearn_model_1.pkl\"\n",
    "svm_scaler_pickle = \"best_sklearn_model_scaler_1.pkl\"\n",
    "svm_path_model = os.path.join(base_dir, svm_dir, svm_model_pickle)\n",
    "svm_path_scaler = os.path.join(base_dir, svm_dir, svm_scaler_pickle)\n",
    "\n",
    "bi_lstm_dir = \"Torches\"\n",
    "bi_lstm_weights_file = \"bi_lstm_weights_1.pth\"\n",
    "bi_lstm_path_weights = os.path.join(base_dir, bi_lstm_dir, bi_lstm_weights_file)\n",
    "\n",
    "peft_model_id = \"il1a/BERT_Fake_News_Classification_LoRA_v1\""
   ]
  },
  {
   "cell_type": "markdown",
   "id": "d6a7d0dfb4446b7e",
   "metadata": {},
   "source": [
    "**Loading SVM**"
   ]
  },
  {
   "cell_type": "code",
   "execution_count": 18,
   "id": "74b318605b3f55fd",
   "metadata": {
    "ExecuteTime": {
     "end_time": "2023-08-16T18:38:10.408447600Z",
     "start_time": "2023-08-16T18:38:10.387162Z"
    }
   },
   "outputs": [],
   "source": [
    "svm = pd.read_pickle(svm_path_model)\n",
    "svm_scaler = pd.read_pickle(svm_path_scaler)"
   ]
  },
  {
   "cell_type": "markdown",
   "id": "30b6ce8e055d237b",
   "metadata": {},
   "source": [
    "**Loading Bi-LSTM**"
   ]
  },
  {
   "cell_type": "code",
   "execution_count": 19,
   "id": "2f2f41bd96626673",
   "metadata": {
    "ExecuteTime": {
     "end_time": "2023-08-16T18:38:11.824314800Z",
     "start_time": "2023-08-16T18:38:11.814122Z"
    }
   },
   "outputs": [
    {
     "data": {
      "text/plain": [
       "NewsClassifier(\n",
       "  (lstm): LSTM(300, 50, batch_first=True, bidirectional=True)\n",
       "  (fc): Linear(in_features=100, out_features=1, bias=True)\n",
       "  (sigmoid): Sigmoid()\n",
       ")"
      ]
     },
     "execution_count": 19,
     "metadata": {},
     "output_type": "execute_result"
    }
   ],
   "source": [
    "bi_lstm = NewsClassifier()\n",
    "bi_lstm.load_state_dict(torch.load(bi_lstm_path_weights))\n",
    "bi_lstm.eval()"
   ]
  },
  {
   "cell_type": "markdown",
   "id": "ffef4f3c841bf588",
   "metadata": {},
   "source": [
    "**Loading BERT Adapter from HuggingFace 🤗**"
   ]
  },
  {
   "cell_type": "code",
   "execution_count": 20,
   "id": "b3430a4540bf2309",
   "metadata": {
    "ExecuteTime": {
     "end_time": "2023-08-16T18:38:18.959822500Z",
     "start_time": "2023-08-16T18:38:13.873348400Z"
    }
   },
   "outputs": [
    {
     "data": {
      "application/vnd.jupyter.widget-view+json": {
       "model_id": "7c3208bddce24014b85094ffd665ba8e",
       "version_major": 2,
       "version_minor": 0
      },
      "text/plain": [
       "Downloading (…)/adapter_config.json:   0%|          | 0.00/434 [00:00<?, ?B/s]"
      ]
     },
     "metadata": {},
     "output_type": "display_data"
    },
    {
     "name": "stderr",
     "output_type": "stream",
     "text": [
      "C:\\Users\\ilyas.BEAST-V2\\anaconda3\\envs\\htw_thesis\\lib\\site-packages\\huggingface_hub\\file_download.py:133: UserWarning: `huggingface_hub` cache-system uses symlinks by default to efficiently store duplicated files but your machine does not support them in C:\\Users\\ilyas.BEAST-V2\\.cache\\huggingface\\hub. Caching files will still work but in a degraded version that might require more space on your disk. This warning can be disabled by setting the `HF_HUB_DISABLE_SYMLINKS_WARNING` environment variable. For more details, see https://huggingface.co/docs/huggingface_hub/how-to-cache#limitations.\n",
      "To support symlinks on Windows, you either need to activate Developer Mode or to run Python as an administrator. In order to see activate developer mode, see this article: https://docs.microsoft.com/en-us/windows/apps/get-started/enable-your-device-for-development\n",
      "  warnings.warn(message)\n",
      "Some weights of the model checkpoint at bert-base-uncased were not used when initializing BertForSequenceClassification: ['cls.predictions.transform.dense.weight', 'cls.predictions.bias', 'cls.seq_relationship.bias', 'cls.seq_relationship.weight', 'cls.predictions.transform.LayerNorm.bias', 'cls.predictions.transform.LayerNorm.weight', 'cls.predictions.transform.dense.bias']\n",
      "- This IS expected if you are initializing BertForSequenceClassification from the checkpoint of a model trained on another task or with another architecture (e.g. initializing a BertForSequenceClassification model from a BertForPreTraining model).\n",
      "- This IS NOT expected if you are initializing BertForSequenceClassification from the checkpoint of a model that you expect to be exactly identical (initializing a BertForSequenceClassification model from a BertForSequenceClassification model).\n",
      "Some weights of BertForSequenceClassification were not initialized from the model checkpoint at bert-base-uncased and are newly initialized: ['classifier.bias', 'classifier.weight']\n",
      "You should probably TRAIN this model on a down-stream task to be able to use it for predictions and inference.\n"
     ]
    },
    {
     "data": {
      "application/vnd.jupyter.widget-view+json": {
       "model_id": "df05adab5fa14ba2b1c0c00440cadab5",
       "version_major": 2,
       "version_minor": 0
      },
      "text/plain": [
       "Downloading adapter_model.bin:   0%|          | 0.00/2.83M [00:00<?, ?B/s]"
      ]
     },
     "metadata": {},
     "output_type": "display_data"
    }
   ],
   "source": [
    "peft_config = PeftConfig.from_pretrained(peft_model_id)\n",
    "bert_inference = AutoModelForSequenceClassification.from_pretrained(\n",
    "    peft_config.base_model_name_or_path, num_labels=num_labels, id2label=id2label, label2id=label2id\n",
    ")\n",
    "bert_tokenizer = BertTokenizerFast.from_pretrained(peft_config.base_model_name_or_path)\n",
    "bert = PeftModel.from_pretrained(bert_inference, peft_model_id)"
   ]
  },
  {
   "cell_type": "code",
   "execution_count": null,
   "id": "645b323b75caf182",
   "metadata": {},
   "outputs": [],
   "source": []
  }
 ],
 "metadata": {
  "kernelspec": {
   "display_name": "Python 3 (ipykernel)",
   "language": "python",
   "name": "python3"
  },
  "language_info": {
   "codemirror_mode": {
    "name": "ipython",
    "version": 3
   },
   "file_extension": ".py",
   "mimetype": "text/x-python",
   "name": "python",
   "nbconvert_exporter": "python",
   "pygments_lexer": "ipython3",
   "version": "3.10.12"
  }
 },
 "nbformat": 4,
 "nbformat_minor": 5
}
