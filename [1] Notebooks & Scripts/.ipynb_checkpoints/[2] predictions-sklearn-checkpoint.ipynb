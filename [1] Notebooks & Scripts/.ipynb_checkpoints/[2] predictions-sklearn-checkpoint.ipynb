{
 "cells": [
  {
   "cell_type": "markdown",
   "id": "c7683f2a51563621",
   "metadata": {},
   "source": [
    "## Bachelor Thesis\n",
    "## \"Exploring the Efficacy of Diverse Classification Techniques In Detecting Disinformation In News.\"\n",
    "Ilia Sokolovskiy\n",
    "HTW SS23\n",
    "\n",
    "Notebook 2/5 - sklearn Models Predictions"
   ]
  },
  {
   "cell_type": "markdown",
   "id": "18ae0db8ea606f12",
   "metadata": {},
   "source": [
    "**Installing all necessary dependencies**"
   ]
  },
  {
   "cell_type": "code",
   "execution_count": null,
   "id": "7588ad931267575b",
   "metadata": {},
   "outputs": [],
   "source": [
    "%%capture\n",
    "!pip install numpy pandas matplotlib scipy scikit-learn tqdm"
   ]
  },
  {
   "cell_type": "markdown",
   "id": "4468acb9c7c04a31",
   "metadata": {},
   "source": [
    "**Importing all necessary libraries**"
   ]
  },
  {
   "cell_type": "code",
   "execution_count": 1,
   "id": "4823fa0181af5692",
   "metadata": {
    "ExecuteTime": {
     "end_time": "2023-08-19T01:55:05.353829800Z",
     "start_time": "2023-08-19T01:55:00.503778300Z"
    }
   },
   "outputs": [],
   "source": [
    "import os\n",
    "import pickle\n",
    "\n",
    "import numpy as np\n",
    "import pandas as pd\n",
    "import matplotlib.pyplot as plt\n",
    "from sklearn.experimental import enable_halving_search_cv\n",
    "from sklearn.model_selection import HalvingGridSearchCV\n",
    "from sklearn.model_selection import train_test_split\n",
    "from sklearn.preprocessing import StandardScaler, MinMaxScaler\n",
    "from sklearn.naive_bayes import GaussianNB, MultinomialNB\n",
    "from sklearn.svm import SVC, LinearSVC\n",
    "from sklearn.neighbors import KNeighborsClassifier\n",
    "from sklearn.metrics import accuracy_score, classification_report, confusion_matrix, ConfusionMatrixDisplay\n",
    "from tqdm.notebook import tqdm\n",
    "\n",
    "from utils import split_data"
   ]
  },
  {
   "cell_type": "markdown",
   "id": "c04410665f94eb03",
   "metadata": {},
   "source": [
    "**Loading the prepared data frame from a pickle**"
   ]
  },
  {
   "cell_type": "code",
   "execution_count": 2,
   "id": "bc9affc10a682720",
   "metadata": {
    "ExecuteTime": {
     "end_time": "2023-08-19T01:56:35.905121100Z",
     "start_time": "2023-08-19T01:56:34.554290700Z"
    }
   },
   "outputs": [],
   "source": [
    "# Load the pickle with the df\n",
    "base_dir = \"Data\"\n",
    "pickle_folder = \"Pickles\"\n",
    "filename_pickle = \"pickle_lg_df_2\"\n",
    "\n",
    "full_path_pickle = os.path.join(base_dir, pickle_folder, filename_pickle)\n",
    "\n",
    "df = pd.read_pickle(full_path_pickle)"
   ]
  },
  {
   "cell_type": "code",
   "execution_count": 3,
   "id": "9086829df2ae1a2a",
   "metadata": {
    "ExecuteTime": {
     "end_time": "2023-08-19T01:56:38.188543200Z",
     "start_time": "2023-08-19T01:56:38.155247Z"
    }
   },
   "outputs": [
    {
     "data": {
      "text/html": [
       "<div>\n",
       "<style scoped>\n",
       "    .dataframe tbody tr th:only-of-type {\n",
       "        vertical-align: middle;\n",
       "    }\n",
       "\n",
       "    .dataframe tbody tr th {\n",
       "        vertical-align: top;\n",
       "    }\n",
       "\n",
       "    .dataframe thead th {\n",
       "        text-align: right;\n",
       "    }\n",
       "</style>\n",
       "<table border=\"1\" class=\"dataframe\">\n",
       "  <thead>\n",
       "    <tr style=\"text-align: right;\">\n",
       "      <th></th>\n",
       "      <th>text</th>\n",
       "      <th>label</th>\n",
       "      <th>label_encoded</th>\n",
       "      <th>norp_count</th>\n",
       "      <th>gpe_count</th>\n",
       "      <th>vader_compound</th>\n",
       "      <th>cleaned_text</th>\n",
       "      <th>original_text_vector</th>\n",
       "      <th>cleaned_text_vector</th>\n",
       "    </tr>\n",
       "  </thead>\n",
       "  <tbody>\n",
       "    <tr>\n",
       "      <th>0</th>\n",
       "      <td>Donald Trump just couldn t wish all Americans ...</td>\n",
       "      <td>FAKE</td>\n",
       "      <td>0</td>\n",
       "      <td>3</td>\n",
       "      <td>3</td>\n",
       "      <td>-0.8681</td>\n",
       "      <td>donald trump couldn t wish americans happy new...</td>\n",
       "      <td>[-1.6619356, -0.0073223817, -1.6303111, -0.190...</td>\n",
       "      <td>[-0.17023614, 1.1278214, -2.2035916, -1.195557...</td>\n",
       "    </tr>\n",
       "    <tr>\n",
       "      <th>1</th>\n",
       "      <td>House Intelligence Committee Chairman Devin Nu...</td>\n",
       "      <td>FAKE</td>\n",
       "      <td>0</td>\n",
       "      <td>10</td>\n",
       "      <td>5</td>\n",
       "      <td>-0.7141</td>\n",
       "      <td>house intelligence committee chairman devin nu...</td>\n",
       "      <td>[-2.008067, 0.6831929, -1.9811207, 0.52264357,...</td>\n",
       "      <td>[-0.3486856, 0.6266792, -1.7451725, 0.01966631...</td>\n",
       "    </tr>\n",
       "    <tr>\n",
       "      <th>2</th>\n",
       "      <td>On Friday, it was revealed that former Milwauk...</td>\n",
       "      <td>FAKE</td>\n",
       "      <td>0</td>\n",
       "      <td>1</td>\n",
       "      <td>4</td>\n",
       "      <td>-0.9953</td>\n",
       "      <td>friday reveal milwaukee sheriff david clarke c...</td>\n",
       "      <td>[-1.9425699, 0.0044210483, -1.7258451, 0.00323...</td>\n",
       "      <td>[-0.34773135, 0.7257386, -1.7822778, 0.2710289...</td>\n",
       "    </tr>\n",
       "    <tr>\n",
       "      <th>3</th>\n",
       "      <td>On Christmas day, Donald Trump announced that ...</td>\n",
       "      <td>FAKE</td>\n",
       "      <td>0</td>\n",
       "      <td>0</td>\n",
       "      <td>2</td>\n",
       "      <td>-0.9176</td>\n",
       "      <td>christmas day donald trump announce work follo...</td>\n",
       "      <td>[-1.6670086, 0.23368433, -0.6346163, 0.1001595...</td>\n",
       "      <td>[-0.18105617, 0.730818, -0.28500575, -0.608257...</td>\n",
       "    </tr>\n",
       "    <tr>\n",
       "      <th>4</th>\n",
       "      <td>Pope Francis used his annual Christmas Day mes...</td>\n",
       "      <td>FAKE</td>\n",
       "      <td>0</td>\n",
       "      <td>2</td>\n",
       "      <td>5</td>\n",
       "      <td>0.3134</td>\n",
       "      <td>pope francis annual christmas day message rebu...</td>\n",
       "      <td>[-2.141846, 1.1239394, -2.4791837, 0.000615673...</td>\n",
       "      <td>[-0.003997393, 1.3095359, -2.2471106, -0.14267...</td>\n",
       "    </tr>\n",
       "  </tbody>\n",
       "</table>\n",
       "</div>"
      ],
      "text/plain": [
       "                                                text label  label_encoded  \\\n",
       "0  Donald Trump just couldn t wish all Americans ...  FAKE              0   \n",
       "1  House Intelligence Committee Chairman Devin Nu...  FAKE              0   \n",
       "2  On Friday, it was revealed that former Milwauk...  FAKE              0   \n",
       "3  On Christmas day, Donald Trump announced that ...  FAKE              0   \n",
       "4  Pope Francis used his annual Christmas Day mes...  FAKE              0   \n",
       "\n",
       "   norp_count  gpe_count  vader_compound  \\\n",
       "0           3          3         -0.8681   \n",
       "1          10          5         -0.7141   \n",
       "2           1          4         -0.9953   \n",
       "3           0          2         -0.9176   \n",
       "4           2          5          0.3134   \n",
       "\n",
       "                                        cleaned_text  \\\n",
       "0  donald trump couldn t wish americans happy new...   \n",
       "1  house intelligence committee chairman devin nu...   \n",
       "2  friday reveal milwaukee sheriff david clarke c...   \n",
       "3  christmas day donald trump announce work follo...   \n",
       "4  pope francis annual christmas day message rebu...   \n",
       "\n",
       "                                original_text_vector  \\\n",
       "0  [-1.6619356, -0.0073223817, -1.6303111, -0.190...   \n",
       "1  [-2.008067, 0.6831929, -1.9811207, 0.52264357,...   \n",
       "2  [-1.9425699, 0.0044210483, -1.7258451, 0.00323...   \n",
       "3  [-1.6670086, 0.23368433, -0.6346163, 0.1001595...   \n",
       "4  [-2.141846, 1.1239394, -2.4791837, 0.000615673...   \n",
       "\n",
       "                                 cleaned_text_vector  \n",
       "0  [-0.17023614, 1.1278214, -2.2035916, -1.195557...  \n",
       "1  [-0.3486856, 0.6266792, -1.7451725, 0.01966631...  \n",
       "2  [-0.34773135, 0.7257386, -1.7822778, 0.2710289...  \n",
       "3  [-0.18105617, 0.730818, -0.28500575, -0.608257...  \n",
       "4  [-0.003997393, 1.3095359, -2.2471106, -0.14267...  "
      ]
     },
     "execution_count": 3,
     "metadata": {},
     "output_type": "execute_result"
    }
   ],
   "source": [
    "df.head()"
   ]
  },
  {
   "cell_type": "code",
   "execution_count": 4,
   "id": "b117b44294e17072",
   "metadata": {
    "ExecuteTime": {
     "end_time": "2023-08-19T01:56:40.288653800Z",
     "start_time": "2023-08-19T01:56:40.271893800Z"
    }
   },
   "outputs": [
    {
     "name": "stdout",
     "output_type": "stream",
     "text": [
      "<class 'pandas.core.frame.DataFrame'>\n",
      "Int64Index: 64429 entries, 0 to 78616\n",
      "Data columns (total 9 columns):\n",
      " #   Column                Non-Null Count  Dtype  \n",
      "---  ------                --------------  -----  \n",
      " 0   text                  64429 non-null  object \n",
      " 1   label                 64429 non-null  object \n",
      " 2   label_encoded         64429 non-null  int64  \n",
      " 3   norp_count            64429 non-null  int64  \n",
      " 4   gpe_count             64429 non-null  int64  \n",
      " 5   vader_compound        64429 non-null  float64\n",
      " 6   cleaned_text          64429 non-null  object \n",
      " 7   original_text_vector  64429 non-null  object \n",
      " 8   cleaned_text_vector   64429 non-null  object \n",
      "dtypes: float64(1), int64(3), object(5)\n",
      "memory usage: 4.9+ MB\n",
      "None\n"
     ]
    }
   ],
   "source": [
    "print(df.info())"
   ]
  },
  {
   "cell_type": "code",
   "execution_count": 21,
   "id": "1778651cb8f77a32",
   "metadata": {
    "ExecuteTime": {
     "end_time": "2023-08-19T02:12:48.303701400Z",
     "start_time": "2023-08-19T02:12:48.273302800Z"
    }
   },
   "outputs": [
    {
     "name": "stdout",
     "output_type": "stream",
     "text": [
      "Vectors of original texts: [-1.6619356  -0.00732238 -1.6303111  -0.19072783  2.7431827   0.07569402\n",
      "  0.71905965  3.1006029   0.05636455 -0.91815954] ...\n",
      "\n",
      "Vectors of cleaned texts: [-0.17023614  1.1278214  -2.2035916  -1.1955578   1.6034375   0.48677844\n",
      "  1.4271044   3.1684027  -1.089497   -1.0168833 ] ...\n",
      "\n",
      "Shape of the vectors created by spaCy: (300,)\n"
     ]
    }
   ],
   "source": [
    "print(f\"Vectors of original texts: {df['original_text_vector'].values[0][:10]} ...\")\n",
    "print(f\"\\nVectors of cleaned texts: {df['cleaned_text_vector'].values[0][:10]} ...\")\n",
    "print(f\"\\nShape of the vectors created by spaCy: {df['original_text_vector'].values[0].shape}\")"
   ]
  },
  {
   "cell_type": "code",
   "execution_count": 19,
   "id": "4cad804c6ebcdb5c",
   "metadata": {
    "ExecuteTime": {
     "end_time": "2023-08-19T02:10:19.951428500Z",
     "start_time": "2023-08-19T02:10:19.855820Z"
    }
   },
   "outputs": [
    {
     "name": "stdout",
     "output_type": "stream",
     "text": [
      "Training set: 51543\n",
      "Validation set: 6443\n",
      "Test set: 6443\n"
     ]
    }
   ],
   "source": [
    "# Data Split Variation Nr.1 (only Vectors of original texts)\n",
    "X_train, X_val, X_test, y_train, y_val, y_test = split_data(df,['original_text_vector'])"
   ]
  },
  {
   "cell_type": "code",
   "execution_count": null,
   "id": "5da76ad91ceb4080",
   "metadata": {},
   "outputs": [],
   "source": [
    "# Data Split Variation Nr.2 (Number of Nationalities or Religious or Political Groups + Vader Compound + Vectors of original texts)\n",
    "# X_train, X_val, X_test, y_train, y_val, y_test = split_data(df,['norp_count', 'vader_compound', 'original_text_vector'])"
   ]
  },
  {
   "cell_type": "code",
   "execution_count": null,
   "id": "6c61a8d41eb80c0b",
   "metadata": {},
   "outputs": [],
   "source": [
    "# Data Split Variation Nr.3 (Number of Geopolitical Entities + Vader Compound + Vectors of original texts)\n",
    "# X_train, X_val, X_test, y_train, y_val, y_test = split_data(df,['gpe_count', 'vader_compound', 'original_text_vector'])"
   ]
  },
  {
   "cell_type": "code",
   "execution_count": null,
   "id": "716364fb5e5e4e06",
   "metadata": {},
   "outputs": [],
   "source": [
    "# Data Split Variation Nr.4 (only Vectors of pre-processed texts)\n",
    "# X_train, X_val, X_test, y_train, y_val, y_test = split_data(df,['cleaned_text_vector'])"
   ]
  },
  {
   "cell_type": "code",
   "execution_count": null,
   "id": "aec3470928421c5",
   "metadata": {},
   "outputs": [],
   "source": [
    "# Data Split Variation Nr.5 (Number of Nationalities or Religious or Political Groups + Vader Compound + Vectors of pre-preocessed texts)\n",
    "# X_train, X_val, X_test, y_train, y_val, y_test = split_data(df,['norp_count', 'vader_compound', 'cleaned_text_vector'])"
   ]
  },
  {
   "cell_type": "code",
   "execution_count": null,
   "id": "3b2be945824f2aa7",
   "metadata": {},
   "outputs": [],
   "source": [
    "# Data Split Variation Nr.6 (Number of Geopolitical Entities + Vader Compound + Vectors of pre-processed texts)\n",
    "# X_train, X_val, X_test, y_train, y_val, y_test = split_data(df,['gpe_count', 'vader_compound', 'cleaned_text_vector'])"
   ]
  },
  {
   "cell_type": "code",
   "execution_count": 8,
   "id": "a733d1fe070fece3",
   "metadata": {
    "ExecuteTime": {
     "end_time": "2023-08-18T19:39:20.313983700Z",
     "start_time": "2023-08-18T19:39:20.157416800Z"
    }
   },
   "outputs": [],
   "source": [
    "# Scaling data for SVMs and KNeighborsClassifier as they are sensitive to feature scales\n",
    "scaler_standard = StandardScaler().fit(X_train)\n",
    "X_train_scaled = scaler_standard.transform(X_train)\n",
    "X_val_scaled = scaler_standard.transform(X_val)\n",
    "X_test_scaled = scaler_standard.transform(X_test)"
   ]
  },
  {
   "cell_type": "code",
   "execution_count": 9,
   "id": "aeaf7726f922603e",
   "metadata": {
    "ExecuteTime": {
     "end_time": "2023-08-18T19:39:21.641680Z",
     "start_time": "2023-08-18T19:39:21.572521600Z"
    }
   },
   "outputs": [],
   "source": [
    "# Scaling data for Multinomial NB to eliminate the negative vector values\n",
    "scaler_min_max = MinMaxScaler().fit(X_train)\n",
    "X_train_scaled_mnb = scaler_min_max.transform(X_train)\n",
    "X_val_scaled_mnb = scaler_min_max.transform(X_val)\n",
    "X_test_scaled_mnb = scaler_min_max.transform(X_test)"
   ]
  },
  {
   "cell_type": "code",
   "execution_count": 10,
   "id": "86a3215097708efc",
   "metadata": {
    "ExecuteTime": {
     "end_time": "2023-08-16T20:23:42.296069300Z",
     "start_time": "2023-08-16T20:07:39.272349600Z"
    }
   },
   "outputs": [
    {
     "data": {
      "application/vnd.jupyter.widget-view+json": {
       "model_id": "e73471c606b84c46bde3cc939efdf797",
       "version_major": 2,
       "version_minor": 0
      },
      "text/plain": [
       "Training sklearn Models:   0%|          | 0/5 [00:00<?, ?it/s]"
      ]
     },
     "metadata": {},
     "output_type": "display_data"
    }
   ],
   "source": [
    "# Training NB, MNB, KNN, SVM and LSVM\n",
    "models = {\n",
    "    \"Naive Bayes\": GaussianNB(),\n",
    "    \"Multinomial NB\": MultinomialNB(),\n",
    "    \"K-Nearest Neighbors\": KNeighborsClassifier(),\n",
    "    \"SVM\": SVC(),\n",
    "    \"Linear SVM\": LinearSVC(dual='auto', max_iter=2000)\n",
    "}\n",
    "\n",
    "trained_models = {}\n",
    "\n",
    "pbar = tqdm(total=len(models), desc=\"Training sklearn Models\")\n",
    "\n",
    "for name, model in models.items():\n",
    "    pbar.set_description(f\"Training {name}\")\n",
    "    if name in [\"SVM\", \"Linear SVM\", \"K-Nearest Neighbors\"]:\n",
    "        model.fit(X_train_scaled, y_train)\n",
    "    elif name == \"Multinomial NB\":\n",
    "        model.fit(X_train_scaled_mnb, y_train) \n",
    "    else:\n",
    "        model.fit(X_train, y_train) \n",
    "    trained_models[name] = model\n",
    "    pbar.update(1)\n",
    "\n",
    "pbar.close()"
   ]
  },
  {
   "cell_type": "code",
   "execution_count": 11,
   "id": "e93a6e57286599fb",
   "metadata": {
    "ExecuteTime": {
     "end_time": "2023-08-16T21:29:05.752797500Z",
     "start_time": "2023-08-16T21:28:54.442280500Z"
    }
   },
   "outputs": [
    {
     "data": {
      "application/vnd.jupyter.widget-view+json": {
       "model_id": "323a038387f241b98777c60371f79a9b",
       "version_major": 2,
       "version_minor": 0
      },
      "text/plain": [
       "Evaluating Models:   0%|          | 0/5 [00:00<?, ?it/s]"
      ]
     },
     "metadata": {},
     "output_type": "display_data"
    },
    {
     "name": "stdout",
     "output_type": "stream",
     "text": [
      "Classification Report for Naive Bayes:\n",
      "\n",
      "              precision    recall  f1-score   support\n",
      "\n",
      "           0       0.80      0.59      0.68      3217\n",
      "           1       0.68      0.86      0.76      3226\n",
      "\n",
      "    accuracy                           0.72      6443\n",
      "   macro avg       0.74      0.72      0.72      6443\n",
      "weighted avg       0.74      0.72      0.72      6443\n",
      "\n",
      "--------------------------------------------------------\n",
      "Classification Report for Multinomial NB:\n",
      "\n",
      "              precision    recall  f1-score   support\n",
      "\n",
      "           0       0.83      0.70      0.76      3217\n",
      "           1       0.74      0.85      0.79      3226\n",
      "\n",
      "    accuracy                           0.78      6443\n",
      "   macro avg       0.79      0.78      0.78      6443\n",
      "weighted avg       0.79      0.78      0.78      6443\n",
      "\n",
      "--------------------------------------------------------\n",
      "Classification Report for K-Nearest Neighbors:\n",
      "\n",
      "              precision    recall  f1-score   support\n",
      "\n",
      "           0       0.94      0.88      0.91      3217\n",
      "           1       0.88      0.95      0.92      3226\n",
      "\n",
      "    accuracy                           0.91      6443\n",
      "   macro avg       0.91      0.91      0.91      6443\n",
      "weighted avg       0.91      0.91      0.91      6443\n",
      "\n",
      "--------------------------------------------------------\n",
      "Classification Report for SVM:\n",
      "\n",
      "              precision    recall  f1-score   support\n",
      "\n",
      "           0       0.96      0.97      0.96      3217\n",
      "           1       0.97      0.96      0.96      3226\n",
      "\n",
      "    accuracy                           0.96      6443\n",
      "   macro avg       0.96      0.96      0.96      6443\n",
      "weighted avg       0.96      0.96      0.96      6443\n",
      "\n",
      "--------------------------------------------------------\n",
      "Classification Report for Linear SVM:\n",
      "\n",
      "              precision    recall  f1-score   support\n",
      "\n",
      "           0       0.94      0.94      0.94      3217\n",
      "           1       0.94      0.94      0.94      3226\n",
      "\n",
      "    accuracy                           0.94      6443\n",
      "   macro avg       0.94      0.94      0.94      6443\n",
      "weighted avg       0.94      0.94      0.94      6443\n",
      "\n",
      "--------------------------------------------------------\n",
      "Best Model: SVM with Accuracy: 0.9643023436287443\n"
     ]
    }
   ],
   "source": [
    "# Evaluating NB, MNB, KNN, SVM and LSVM\n",
    "model_scores = {}\n",
    "\n",
    "for name, model in tqdm(trained_models.items(), desc=\"Evaluating Models\"):\n",
    "    if name in [\"SVM\", \"Linear SVM\", \"K-Nearest Neighbors\"]:\n",
    "        preds = model.predict(X_val_scaled)\n",
    "    elif name == \"Multinomial NB\":\n",
    "        preds = model.predict(X_val_scaled_mnb)\n",
    "    else: \n",
    "        preds = model.predict(X_val)\n",
    "    \n",
    "    score = accuracy_score(y_val, preds)\n",
    "\n",
    "    # Print the classification report for the current model\n",
    "    print(f\"Classification Report for {name}:\\n\")\n",
    "    print(classification_report(y_val, preds))\n",
    "    print(\"--------------------------------------------------------\")\n",
    "\n",
    "    model_scores[name] = score\n",
    "\n",
    "best_model_name = max(model_scores, key=model_scores.get)\n",
    "print(f\"Best Model: {best_model_name} with Accuracy: {model_scores[best_model_name]}\")"
   ]
  },
  {
   "cell_type": "code",
   "execution_count": 12,
   "id": "9c282e4de7bdf9b4",
   "metadata": {
    "ExecuteTime": {
     "end_time": "2023-08-18T19:41:03.460074100Z",
     "start_time": "2023-08-18T19:41:03.428754500Z"
    }
   },
   "outputs": [
    {
     "name": "stdout",
     "output_type": "stream",
     "text": [
      "Size of the scaled-down training set for fine-tuning: 10308\n"
     ]
    }
   ],
   "source": [
    "# Using train_test_split to sample down train data for faster and less compute resource costly fine-tuning\n",
    "X_train_scaled_small, _, y_train_small, _ = train_test_split(X_train_scaled, y_train, test_size=0.8, random_state=11)\n",
    "print(\"Size of the scaled-down training set for fine-tuning:\", len(X_train_scaled_small))"
   ]
  },
  {
   "cell_type": "code",
   "execution_count": 14,
   "id": "bbe49d667fbeab26",
   "metadata": {
    "ExecuteTime": {
     "end_time": "2023-08-18T19:42:44.560902200Z",
     "start_time": "2023-08-18T19:42:44.545220600Z"
    }
   },
   "outputs": [
    {
     "name": "stdout",
     "output_type": "stream",
     "text": [
      "Count of 0: 5172\n",
      "Count of 1: 5136\n"
     ]
    }
   ],
   "source": [
    "# Check, whether the balance between two label classes remains intact (0 and 1)\n",
    "unique, counts = np.unique(y_train_small, return_counts=True)\n",
    "\n",
    "for u, c in zip(unique, counts):\n",
    "    print(f\"Count of {u}: {c}\")"
   ]
  },
  {
   "cell_type": "code",
   "execution_count": 115,
   "id": "e4d53880bf51ca2b",
   "metadata": {
    "ExecuteTime": {
     "end_time": "2023-08-18T20:34:03.841344700Z",
     "start_time": "2023-08-18T20:33:06.365366800Z"
    }
   },
   "outputs": [
    {
     "name": "stdout",
     "output_type": "stream",
     "text": [
      "n_iterations: 4\n",
      "n_required_iterations: 4\n",
      "n_possible_iterations: 4\n",
      "min_resources_: 1288\n",
      "max_resources_: 10308\n",
      "aggressive_elimination: False\n",
      "factor: 2\n",
      "----------\n",
      "iter: 0\n",
      "n_candidates: 8\n",
      "n_resources: 1288\n",
      "Fitting 5 folds for each of 8 candidates, totalling 40 fits\n",
      "[CV 1/5] END C=0.5, gamma=scale, kernel=rbf;, score=(train=0.941, test=0.914) total time=   0.0s\n",
      "[CV 2/5] END C=0.5, gamma=scale, kernel=rbf;, score=(train=0.945, test=0.887) total time=   0.0s\n",
      "[CV 3/5] END C=0.5, gamma=scale, kernel=rbf;, score=(train=0.936, test=0.887) total time=   0.0s\n",
      "[CV 4/5] END C=0.5, gamma=scale, kernel=rbf;, score=(train=0.941, test=0.895) total time=   0.0s\n",
      "[CV 5/5] END C=0.5, gamma=scale, kernel=rbf;, score=(train=0.948, test=0.926) total time=   0.0s\n",
      "[CV 1/5] END C=1, gamma=scale, kernel=rbf;, score=(train=0.969, test=0.918) total time=   0.0s\n",
      "[CV 2/5] END C=1, gamma=scale, kernel=rbf;, score=(train=0.970, test=0.911) total time=   0.0s\n",
      "[CV 3/5] END C=1, gamma=scale, kernel=rbf;, score=(train=0.967, test=0.911) total time=   0.0s\n",
      "[CV 4/5] END C=1, gamma=scale, kernel=rbf;, score=(train=0.969, test=0.914) total time=   0.0s\n",
      "[CV 5/5] END C=1, gamma=scale, kernel=rbf;, score=(train=0.973, test=0.930) total time=   0.0s\n",
      "[CV 1/5] END C=5, gamma=scale, kernel=rbf;, score=(train=0.998, test=0.926) total time=   0.0s\n",
      "[CV 2/5] END C=5, gamma=scale, kernel=rbf;, score=(train=0.999, test=0.934) total time=   0.0s\n",
      "[CV 3/5] END C=5, gamma=scale, kernel=rbf;, score=(train=1.000, test=0.942) total time=   0.0s\n",
      "[CV 4/5] END C=5, gamma=scale, kernel=rbf;, score=(train=0.996, test=0.914) total time=   0.0s\n",
      "[CV 5/5] END C=5, gamma=scale, kernel=rbf;, score=(train=0.996, test=0.946) total time=   0.0s\n",
      "[CV 1/5] END C=10, gamma=scale, kernel=rbf;, score=(train=1.000, test=0.926) total time=   0.0s\n",
      "[CV 2/5] END C=10, gamma=scale, kernel=rbf;, score=(train=1.000, test=0.938) total time=   0.0s\n",
      "[CV 3/5] END C=10, gamma=scale, kernel=rbf;, score=(train=1.000, test=0.938) total time=   0.0s\n",
      "[CV 4/5] END C=10, gamma=scale, kernel=rbf;, score=(train=0.999, test=0.911) total time=   0.0s\n",
      "[CV 5/5] END C=10, gamma=scale, kernel=rbf;, score=(train=0.999, test=0.930) total time=   0.0s\n",
      "[CV 1/5] END C=20, gamma=scale, kernel=rbf;, score=(train=1.000, test=0.926) total time=   0.0s\n",
      "[CV 2/5] END C=20, gamma=scale, kernel=rbf;, score=(train=1.000, test=0.938) total time=   0.0s\n",
      "[CV 3/5] END C=20, gamma=scale, kernel=rbf;, score=(train=1.000, test=0.938) total time=   0.0s\n",
      "[CV 4/5] END C=20, gamma=scale, kernel=rbf;, score=(train=1.000, test=0.914) total time=   0.0s\n",
      "[CV 5/5] END C=20, gamma=scale, kernel=rbf;, score=(train=1.000, test=0.942) total time=   0.0s\n",
      "[CV 1/5] END C=30, gamma=scale, kernel=rbf;, score=(train=1.000, test=0.926) total time=   0.0s\n",
      "[CV 2/5] END C=30, gamma=scale, kernel=rbf;, score=(train=1.000, test=0.938) total time=   0.0s\n",
      "[CV 3/5] END C=30, gamma=scale, kernel=rbf;, score=(train=1.000, test=0.938) total time=   0.0s\n",
      "[CV 4/5] END C=30, gamma=scale, kernel=rbf;, score=(train=1.000, test=0.914) total time=   0.0s\n",
      "[CV 5/5] END C=30, gamma=scale, kernel=rbf;, score=(train=1.000, test=0.946) total time=   0.0s\n",
      "[CV 1/5] END C=50, gamma=scale, kernel=rbf;, score=(train=1.000, test=0.926) total time=   0.0s\n",
      "[CV 2/5] END C=50, gamma=scale, kernel=rbf;, score=(train=1.000, test=0.938) total time=   0.0s\n",
      "[CV 3/5] END C=50, gamma=scale, kernel=rbf;, score=(train=1.000, test=0.938) total time=   0.0s\n",
      "[CV 4/5] END C=50, gamma=scale, kernel=rbf;, score=(train=1.000, test=0.914) total time=   0.0s\n",
      "[CV 5/5] END C=50, gamma=scale, kernel=rbf;, score=(train=1.000, test=0.946) total time=   0.0s\n",
      "[CV 1/5] END C=100, gamma=scale, kernel=rbf;, score=(train=1.000, test=0.926) total time=   0.0s\n",
      "[CV 2/5] END C=100, gamma=scale, kernel=rbf;, score=(train=1.000, test=0.938) total time=   0.0s\n",
      "[CV 3/5] END C=100, gamma=scale, kernel=rbf;, score=(train=1.000, test=0.938) total time=   0.0s\n",
      "[CV 4/5] END C=100, gamma=scale, kernel=rbf;, score=(train=1.000, test=0.914) total time=   0.0s\n",
      "[CV 5/5] END C=100, gamma=scale, kernel=rbf;, score=(train=1.000, test=0.946) total time=   0.0s\n",
      "----------\n",
      "iter: 1\n",
      "n_candidates: 4\n",
      "n_resources: 2576\n",
      "Fitting 5 folds for each of 4 candidates, totalling 20 fits\n",
      "[CV 1/5] END C=5, gamma=scale, kernel=rbf;, score=(train=0.997, test=0.944) total time=   0.1s\n",
      "[CV 2/5] END C=5, gamma=scale, kernel=rbf;, score=(train=0.996, test=0.932) total time=   0.2s\n",
      "[CV 3/5] END C=5, gamma=scale, kernel=rbf;, score=(train=0.995, test=0.936) total time=   0.1s\n",
      "[CV 4/5] END C=5, gamma=scale, kernel=rbf;, score=(train=0.995, test=0.940) total time=   0.1s\n",
      "[CV 5/5] END C=5, gamma=scale, kernel=rbf;, score=(train=0.994, test=0.938) total time=   0.1s\n",
      "[CV 1/5] END C=30, gamma=scale, kernel=rbf;, score=(train=1.000, test=0.944) total time=   0.1s\n",
      "[CV 2/5] END C=30, gamma=scale, kernel=rbf;, score=(train=1.000, test=0.942) total time=   0.1s\n",
      "[CV 3/5] END C=30, gamma=scale, kernel=rbf;, score=(train=1.000, test=0.928) total time=   0.1s\n",
      "[CV 4/5] END C=30, gamma=scale, kernel=rbf;, score=(train=1.000, test=0.936) total time=   0.1s\n",
      "[CV 5/5] END C=30, gamma=scale, kernel=rbf;, score=(train=1.000, test=0.934) total time=   0.1s\n",
      "[CV 1/5] END C=50, gamma=scale, kernel=rbf;, score=(train=1.000, test=0.944) total time=   0.1s\n",
      "[CV 2/5] END C=50, gamma=scale, kernel=rbf;, score=(train=1.000, test=0.942) total time=   0.1s\n",
      "[CV 3/5] END C=50, gamma=scale, kernel=rbf;, score=(train=1.000, test=0.928) total time=   0.1s\n",
      "[CV 4/5] END C=50, gamma=scale, kernel=rbf;, score=(train=1.000, test=0.936) total time=   0.1s\n",
      "[CV 5/5] END C=50, gamma=scale, kernel=rbf;, score=(train=1.000, test=0.934) total time=   0.1s\n",
      "[CV 1/5] END C=100, gamma=scale, kernel=rbf;, score=(train=1.000, test=0.944) total time=   0.1s\n",
      "[CV 2/5] END C=100, gamma=scale, kernel=rbf;, score=(train=1.000, test=0.942) total time=   0.1s\n",
      "[CV 3/5] END C=100, gamma=scale, kernel=rbf;, score=(train=1.000, test=0.928) total time=   0.1s\n",
      "[CV 4/5] END C=100, gamma=scale, kernel=rbf;, score=(train=1.000, test=0.936) total time=   0.1s\n",
      "[CV 5/5] END C=100, gamma=scale, kernel=rbf;, score=(train=1.000, test=0.934) total time=   0.1s\n",
      "----------\n",
      "iter: 2\n",
      "n_candidates: 2\n",
      "n_resources: 5152\n",
      "Fitting 5 folds for each of 2 candidates, totalling 10 fits\n",
      "[CV 1/5] END C=100, gamma=scale, kernel=rbf;, score=(train=1.000, test=0.957) total time=   0.6s\n",
      "[CV 2/5] END C=100, gamma=scale, kernel=rbf;, score=(train=1.000, test=0.942) total time=   0.6s\n",
      "[CV 3/5] END C=100, gamma=scale, kernel=rbf;, score=(train=1.000, test=0.940) total time=   0.6s\n",
      "[CV 4/5] END C=100, gamma=scale, kernel=rbf;, score=(train=1.000, test=0.931) total time=   0.6s\n",
      "[CV 5/5] END C=100, gamma=scale, kernel=rbf;, score=(train=1.000, test=0.953) total time=   0.7s\n",
      "[CV 1/5] END C=5, gamma=scale, kernel=rbf;, score=(train=0.995, test=0.958) total time=   0.6s\n",
      "[CV 2/5] END C=5, gamma=scale, kernel=rbf;, score=(train=0.995, test=0.942) total time=   0.6s\n",
      "[CV 3/5] END C=5, gamma=scale, kernel=rbf;, score=(train=0.994, test=0.937) total time=   0.6s\n",
      "[CV 4/5] END C=5, gamma=scale, kernel=rbf;, score=(train=0.993, test=0.941) total time=   0.6s\n",
      "[CV 5/5] END C=5, gamma=scale, kernel=rbf;, score=(train=0.994, test=0.950) total time=   0.6s\n",
      "----------\n",
      "iter: 3\n",
      "n_candidates: 1\n",
      "n_resources: 10304\n",
      "Fitting 5 folds for each of 1 candidates, totalling 5 fits\n",
      "[CV 1/5] END C=5, gamma=scale, kernel=rbf;, score=(train=0.993, test=0.958) total time=   2.4s\n",
      "[CV 2/5] END C=5, gamma=scale, kernel=rbf;, score=(train=0.992, test=0.945) total time=   2.2s\n",
      "[CV 3/5] END C=5, gamma=scale, kernel=rbf;, score=(train=0.992, test=0.947) total time=   2.2s\n",
      "[CV 4/5] END C=5, gamma=scale, kernel=rbf;, score=(train=0.992, test=0.944) total time=   2.3s\n",
      "[CV 5/5] END C=5, gamma=scale, kernel=rbf;, score=(train=0.994, test=0.957) total time=   2.3s\n",
      "Best Parameters according to the HalvingGridSearchCV: {'C': 5, 'gamma': 'scale', 'kernel': 'rbf'}\n"
     ]
    }
   ],
   "source": [
    "# Define the hyperparameter search space and use HalvingGridSearchCV for fine-tuning on 20% of the data\n",
    "params = {\n",
    "    'C': [0.5, 1, 5, 10, 20, 30, 50, 100],\n",
    "    'gamma': ['scale'],\n",
    "    'kernel': ['rbf']\n",
    "}\n",
    "\n",
    "svm = SVC()\n",
    "halving_search = HalvingGridSearchCV(svm, params, factor=2, verbose=3, cv=5, random_state=1)\n",
    "\n",
    "halving_search.fit(X_train_scaled_small, y_train_small)\n",
    "print(f\"Best Parameters according to the HalvingGridSearchCV: {halving_search.best_params_}\")"
   ]
  },
  {
   "cell_type": "code",
   "execution_count": 116,
   "id": "dd87e5c3e98c409f",
   "metadata": {
    "ExecuteTime": {
     "end_time": "2023-08-18T20:34:38.183995900Z",
     "start_time": "2023-08-18T20:34:35.538567Z"
    }
   },
   "outputs": [
    {
     "name": "stdout",
     "output_type": "stream",
     "text": [
      "Test Accuracy: 95.56%\n"
     ]
    }
   ],
   "source": [
    "# Test accuracy of the model when the \"best\" fine-tuned hyperparameters\n",
    "best_svm = halving_search.best_estimator_\n",
    "test_accuracy = best_svm.score(X_test_scaled, y_test)\n",
    "print(f\"Test Accuracy: {test_accuracy * 100:.2f}%\")"
   ]
  },
  {
   "cell_type": "code",
   "execution_count": 117,
   "id": "95543b3c6218131e",
   "metadata": {
    "ExecuteTime": {
     "end_time": "2023-08-18T20:41:14.786572700Z",
     "start_time": "2023-08-18T20:35:50.336897400Z"
    }
   },
   "outputs": [
    {
     "name": "stdout",
     "output_type": "stream",
     "text": [
      "Final Accuracy on Test Set: 0.9694241812820115\n"
     ]
    }
   ],
   "source": [
    "# Final training and evaluation using test data\n",
    "X_combined = np.concatenate([X_train, X_val], axis=0)\n",
    "y_combined = np.concatenate([y_train, y_val], axis=0)\n",
    "\n",
    "scaler = StandardScaler().fit(X_combined)\n",
    "X_combined_scaled = scaler.transform(X_combined)\n",
    "X_test_scaled = scaler.transform(X_test)\n",
    "\n",
    "best_model = SVC(C=5)\n",
    "best_model.fit(X_combined_scaled, y_combined)\n",
    "\n",
    "test_preds = best_model.predict(X_test_scaled)\n",
    "final_score = accuracy_score(y_test, test_preds)\n",
    "\n",
    "print(f\"Final Accuracy on Test Set: {final_score}\")"
   ]
  },
  {
   "cell_type": "code",
   "execution_count": 11,
   "id": "bf6a8d748d810eb",
   "metadata": {
    "ExecuteTime": {
     "end_time": "2023-08-16T22:47:49.765267300Z",
     "start_time": "2023-08-16T22:47:49.749251700Z"
    }
   },
   "outputs": [
    {
     "name": "stdout",
     "output_type": "stream",
     "text": [
      "\n",
      "Classification Report:\n",
      "               precision    recall  f1-score   support\n",
      "\n",
      "           0       0.97      0.96      0.96      3244\n",
      "           1       0.96      0.97      0.96      3199\n",
      "\n",
      "    accuracy                           0.96      6443\n",
      "   macro avg       0.96      0.96      0.96      6443\n",
      "weighted avg       0.96      0.96      0.96      6443\n"
     ]
    }
   ],
   "source": [
    "# Display classification report\n",
    "print(\"\\nClassification Report:\\n\", classification_report(y_test, test_preds))"
   ]
  },
  {
   "cell_type": "code",
   "execution_count": 12,
   "id": "33233d6a1ac3ad50",
   "metadata": {
    "ExecuteTime": {
     "end_time": "2023-08-16T22:47:52.171869600Z",
     "start_time": "2023-08-16T22:47:52.152094200Z"
    }
   },
   "outputs": [
    {
     "name": "stdout",
     "output_type": "stream",
     "text": [
      "\n",
      "Confusion Matrix:\n",
      " [[3122  122]\n",
      " [ 107 3092]]\n"
     ]
    }
   ],
   "source": [
    "# Display confusion matrix\n",
    "print(\"\\nConfusion Matrix:\\n\", confusion_matrix(y_test, test_preds))"
   ]
  },
  {
   "cell_type": "code",
   "execution_count": 13,
   "id": "3dd7988da29cfbd3",
   "metadata": {
    "ExecuteTime": {
     "end_time": "2023-08-16T22:48:04.755322Z",
     "start_time": "2023-08-16T22:47:53.816588500Z"
    }
   },
   "outputs": [
    {
     "data": {
      "image/png": "[encoded data removed]",
      "text/plain": [
       "<Figure size 640x480 with 2 Axes>"
      ]
     },
     "metadata": {},
     "output_type": "display_data"
    }
   ],
   "source": [
    "# Graphical confusion matrix\n",
    "confusion_display = ConfusionMatrixDisplay.from_estimator(best_model, X_test_scaled, y_test, normalize=\"all\")\n",
    "plt.title(\"Confusion Matrix - Support Vector Classification\")\n",
    "plt.show()"
   ]
  },
  {
   "cell_type": "code",
   "execution_count": 14,
   "id": "5b161db6a322b07c",
   "metadata": {
    "ExecuteTime": {
     "end_time": "2023-08-16T22:48:13.485523400Z",
     "start_time": "2023-08-16T22:48:13.438576900Z"
    }
   },
   "outputs": [
    {
     "name": "stdout",
     "output_type": "stream",
     "text": [
      "\n",
      "Model and scaler saved successfully!\n"
     ]
    }
   ],
   "source": [
    "# Define directories\n",
    "base_dir = \"Models\"\n",
    "pickle_folder = \"Pickles\"\n",
    "\n",
    "# Save the model using pickle\n",
    "model_filename = \"best_sklearn_model_2.pkl\"\n",
    "full_path_model = os.path.join(base_dir, pickle_folder, model_filename)\n",
    "with open(full_path_model, \"wb\") as model_file:\n",
    "    pickle.dump(best_model, model_file)\n",
    "\n",
    "# Save the scaler using pickle\n",
    "scaler_filename = \"best_sklearn_model_scaler_2.pkl\"\n",
    "full_path_scaler = os.path.join(base_dir, pickle_folder, scaler_filename)\n",
    "with open(full_path_scaler, \"wb\") as scaler_file:\n",
    "    pickle.dump(scaler, scaler_file)\n",
    "\n",
    "print(\"\\nModel and scaler saved successfully!\")"
   ]
  },
  {
   "cell_type": "code",
   "execution_count": null,
   "id": "67a142d86ba13f6f",
   "metadata": {},
   "outputs": [],
   "source": []
  }
 ],
 "metadata": {
  "kernelspec": {
   "display_name": "Python 3 (ipykernel)",
   "language": "python",
   "name": "python3"
  },
  "language_info": {
   "codemirror_mode": {
    "name": "ipython",
    "version": 3
   },
   "file_extension": ".py",
   "mimetype": "text/x-python",
   "name": "python",
   "nbconvert_exporter": "python",
   "pygments_lexer": "ipython3",
   "version": "3.10.12"
  }
 },
 "nbformat": 4,
 "nbformat_minor": 5
}
